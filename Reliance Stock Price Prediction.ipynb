{
 "cells": [
  {
   "cell_type": "code",
   "execution_count": 34,
   "id": "40a14a8d",
   "metadata": {},
   "outputs": [],
   "source": [
    "import pandas as pd\n",
    "import numpy as np\n",
    "import matplotlib.pyplot as plt\n",
    "from sklearn import linear_model\n",
    "from sklearn.model_selection import train_test_split\n",
    "from sklearn.linear_model import LinearRegression\n",
    "from sklearn.preprocessing import LabelEncoder\n",
    "from sklearn.metrics import mean_squared_error"
   ]
  },
  {
   "cell_type": "code",
   "execution_count": 3,
   "id": "0fb045d8",
   "metadata": {},
   "outputs": [],
   "source": [
    "data=pd.read_csv('RELIANCE.NS.csv')"
   ]
  },
  {
   "cell_type": "code",
   "execution_count": 4,
   "id": "2cbbd4b6",
   "metadata": {},
   "outputs": [
    {
     "data": {
      "text/html": [
       "<div>\n",
       "<style scoped>\n",
       "    .dataframe tbody tr th:only-of-type {\n",
       "        vertical-align: middle;\n",
       "    }\n",
       "\n",
       "    .dataframe tbody tr th {\n",
       "        vertical-align: top;\n",
       "    }\n",
       "\n",
       "    .dataframe thead th {\n",
       "        text-align: right;\n",
       "    }\n",
       "</style>\n",
       "<table border=\"1\" class=\"dataframe\">\n",
       "  <thead>\n",
       "    <tr style=\"text-align: right;\">\n",
       "      <th></th>\n",
       "      <th>Date</th>\n",
       "      <th>Open</th>\n",
       "      <th>High</th>\n",
       "      <th>Low</th>\n",
       "      <th>Close</th>\n",
       "      <th>Adj Close</th>\n",
       "      <th>Volume</th>\n",
       "    </tr>\n",
       "  </thead>\n",
       "  <tbody>\n",
       "    <tr>\n",
       "      <th>0</th>\n",
       "      <td>2021-11-04</td>\n",
       "      <td>2492.949951</td>\n",
       "      <td>2504.899902</td>\n",
       "      <td>2490.000000</td>\n",
       "      <td>2498.850098</td>\n",
       "      <td>2491.349365</td>\n",
       "      <td>787160</td>\n",
       "    </tr>\n",
       "    <tr>\n",
       "      <th>1</th>\n",
       "      <td>2021-11-08</td>\n",
       "      <td>2519.399902</td>\n",
       "      <td>2520.000000</td>\n",
       "      <td>2456.399902</td>\n",
       "      <td>2501.949951</td>\n",
       "      <td>2494.439941</td>\n",
       "      <td>9385607</td>\n",
       "    </tr>\n",
       "    <tr>\n",
       "      <th>2</th>\n",
       "      <td>2021-11-09</td>\n",
       "      <td>2505.000000</td>\n",
       "      <td>2528.899902</td>\n",
       "      <td>2487.050049</td>\n",
       "      <td>2521.699951</td>\n",
       "      <td>2514.130615</td>\n",
       "      <td>7237470</td>\n",
       "    </tr>\n",
       "    <tr>\n",
       "      <th>3</th>\n",
       "      <td>2021-11-10</td>\n",
       "      <td>2516.699951</td>\n",
       "      <td>2558.000000</td>\n",
       "      <td>2503.649902</td>\n",
       "      <td>2549.899902</td>\n",
       "      <td>2542.245850</td>\n",
       "      <td>4731975</td>\n",
       "    </tr>\n",
       "    <tr>\n",
       "      <th>4</th>\n",
       "      <td>2021-11-11</td>\n",
       "      <td>2540.050049</td>\n",
       "      <td>2570.500000</td>\n",
       "      <td>2535.550049</td>\n",
       "      <td>2554.550049</td>\n",
       "      <td>2546.882080</td>\n",
       "      <td>4948422</td>\n",
       "    </tr>\n",
       "    <tr>\n",
       "      <th>...</th>\n",
       "      <td>...</td>\n",
       "      <td>...</td>\n",
       "      <td>...</td>\n",
       "      <td>...</td>\n",
       "      <td>...</td>\n",
       "      <td>...</td>\n",
       "      <td>...</td>\n",
       "    </tr>\n",
       "    <tr>\n",
       "      <th>244</th>\n",
       "      <td>2022-10-31</td>\n",
       "      <td>2541.000000</td>\n",
       "      <td>2560.949951</td>\n",
       "      <td>2532.199951</td>\n",
       "      <td>2549.600098</td>\n",
       "      <td>2549.600098</td>\n",
       "      <td>5731802</td>\n",
       "    </tr>\n",
       "    <tr>\n",
       "      <th>245</th>\n",
       "      <td>2022-11-01</td>\n",
       "      <td>2600.000000</td>\n",
       "      <td>2600.000000</td>\n",
       "      <td>2508.000000</td>\n",
       "      <td>2529.850098</td>\n",
       "      <td>2529.850098</td>\n",
       "      <td>6443999</td>\n",
       "    </tr>\n",
       "    <tr>\n",
       "      <th>246</th>\n",
       "      <td>2022-11-02</td>\n",
       "      <td>2532.300049</td>\n",
       "      <td>2550.199951</td>\n",
       "      <td>2515.000000</td>\n",
       "      <td>2545.649902</td>\n",
       "      <td>2545.649902</td>\n",
       "      <td>4145144</td>\n",
       "    </tr>\n",
       "    <tr>\n",
       "      <th>247</th>\n",
       "      <td>2022-11-03</td>\n",
       "      <td>2529.850098</td>\n",
       "      <td>2559.550049</td>\n",
       "      <td>2525.050049</td>\n",
       "      <td>2555.149902</td>\n",
       "      <td>2555.149902</td>\n",
       "      <td>3089026</td>\n",
       "    </tr>\n",
       "    <tr>\n",
       "      <th>248</th>\n",
       "      <td>2022-11-04</td>\n",
       "      <td>2553.899902</td>\n",
       "      <td>2590.949951</td>\n",
       "      <td>2551.100098</td>\n",
       "      <td>2584.500000</td>\n",
       "      <td>2584.500000</td>\n",
       "      <td>3074007</td>\n",
       "    </tr>\n",
       "  </tbody>\n",
       "</table>\n",
       "<p>249 rows × 7 columns</p>\n",
       "</div>"
      ],
      "text/plain": [
       "           Date         Open         High          Low        Close  \\\n",
       "0    2021-11-04  2492.949951  2504.899902  2490.000000  2498.850098   \n",
       "1    2021-11-08  2519.399902  2520.000000  2456.399902  2501.949951   \n",
       "2    2021-11-09  2505.000000  2528.899902  2487.050049  2521.699951   \n",
       "3    2021-11-10  2516.699951  2558.000000  2503.649902  2549.899902   \n",
       "4    2021-11-11  2540.050049  2570.500000  2535.550049  2554.550049   \n",
       "..          ...          ...          ...          ...          ...   \n",
       "244  2022-10-31  2541.000000  2560.949951  2532.199951  2549.600098   \n",
       "245  2022-11-01  2600.000000  2600.000000  2508.000000  2529.850098   \n",
       "246  2022-11-02  2532.300049  2550.199951  2515.000000  2545.649902   \n",
       "247  2022-11-03  2529.850098  2559.550049  2525.050049  2555.149902   \n",
       "248  2022-11-04  2553.899902  2590.949951  2551.100098  2584.500000   \n",
       "\n",
       "       Adj Close   Volume  \n",
       "0    2491.349365   787160  \n",
       "1    2494.439941  9385607  \n",
       "2    2514.130615  7237470  \n",
       "3    2542.245850  4731975  \n",
       "4    2546.882080  4948422  \n",
       "..           ...      ...  \n",
       "244  2549.600098  5731802  \n",
       "245  2529.850098  6443999  \n",
       "246  2545.649902  4145144  \n",
       "247  2555.149902  3089026  \n",
       "248  2584.500000  3074007  \n",
       "\n",
       "[249 rows x 7 columns]"
      ]
     },
     "execution_count": 4,
     "metadata": {},
     "output_type": "execute_result"
    }
   ],
   "source": [
    "data"
   ]
  },
  {
   "cell_type": "code",
   "execution_count": 5,
   "id": "e22848dc",
   "metadata": {},
   "outputs": [
    {
     "data": {
      "text/html": [
       "<div>\n",
       "<style scoped>\n",
       "    .dataframe tbody tr th:only-of-type {\n",
       "        vertical-align: middle;\n",
       "    }\n",
       "\n",
       "    .dataframe tbody tr th {\n",
       "        vertical-align: top;\n",
       "    }\n",
       "\n",
       "    .dataframe thead th {\n",
       "        text-align: right;\n",
       "    }\n",
       "</style>\n",
       "<table border=\"1\" class=\"dataframe\">\n",
       "  <thead>\n",
       "    <tr style=\"text-align: right;\">\n",
       "      <th></th>\n",
       "      <th>Date</th>\n",
       "      <th>Open</th>\n",
       "      <th>High</th>\n",
       "      <th>Low</th>\n",
       "      <th>Close</th>\n",
       "      <th>Adj Close</th>\n",
       "      <th>Volume</th>\n",
       "    </tr>\n",
       "  </thead>\n",
       "  <tbody>\n",
       "    <tr>\n",
       "      <th>0</th>\n",
       "      <td>2021-11-04</td>\n",
       "      <td>2492.949951</td>\n",
       "      <td>2504.899902</td>\n",
       "      <td>2490.000000</td>\n",
       "      <td>2498.850098</td>\n",
       "      <td>2491.349365</td>\n",
       "      <td>787160</td>\n",
       "    </tr>\n",
       "    <tr>\n",
       "      <th>1</th>\n",
       "      <td>2021-11-08</td>\n",
       "      <td>2519.399902</td>\n",
       "      <td>2520.000000</td>\n",
       "      <td>2456.399902</td>\n",
       "      <td>2501.949951</td>\n",
       "      <td>2494.439941</td>\n",
       "      <td>9385607</td>\n",
       "    </tr>\n",
       "    <tr>\n",
       "      <th>2</th>\n",
       "      <td>2021-11-09</td>\n",
       "      <td>2505.000000</td>\n",
       "      <td>2528.899902</td>\n",
       "      <td>2487.050049</td>\n",
       "      <td>2521.699951</td>\n",
       "      <td>2514.130615</td>\n",
       "      <td>7237470</td>\n",
       "    </tr>\n",
       "    <tr>\n",
       "      <th>3</th>\n",
       "      <td>2021-11-10</td>\n",
       "      <td>2516.699951</td>\n",
       "      <td>2558.000000</td>\n",
       "      <td>2503.649902</td>\n",
       "      <td>2549.899902</td>\n",
       "      <td>2542.245850</td>\n",
       "      <td>4731975</td>\n",
       "    </tr>\n",
       "    <tr>\n",
       "      <th>4</th>\n",
       "      <td>2021-11-11</td>\n",
       "      <td>2540.050049</td>\n",
       "      <td>2570.500000</td>\n",
       "      <td>2535.550049</td>\n",
       "      <td>2554.550049</td>\n",
       "      <td>2546.882080</td>\n",
       "      <td>4948422</td>\n",
       "    </tr>\n",
       "  </tbody>\n",
       "</table>\n",
       "</div>"
      ],
      "text/plain": [
       "         Date         Open         High          Low        Close  \\\n",
       "0  2021-11-04  2492.949951  2504.899902  2490.000000  2498.850098   \n",
       "1  2021-11-08  2519.399902  2520.000000  2456.399902  2501.949951   \n",
       "2  2021-11-09  2505.000000  2528.899902  2487.050049  2521.699951   \n",
       "3  2021-11-10  2516.699951  2558.000000  2503.649902  2549.899902   \n",
       "4  2021-11-11  2540.050049  2570.500000  2535.550049  2554.550049   \n",
       "\n",
       "     Adj Close   Volume  \n",
       "0  2491.349365   787160  \n",
       "1  2494.439941  9385607  \n",
       "2  2514.130615  7237470  \n",
       "3  2542.245850  4731975  \n",
       "4  2546.882080  4948422  "
      ]
     },
     "execution_count": 5,
     "metadata": {},
     "output_type": "execute_result"
    }
   ],
   "source": [
    "data.head()"
   ]
  },
  {
   "cell_type": "code",
   "execution_count": 6,
   "id": "f9d61bee",
   "metadata": {},
   "outputs": [
    {
     "data": {
      "text/html": [
       "<div>\n",
       "<style scoped>\n",
       "    .dataframe tbody tr th:only-of-type {\n",
       "        vertical-align: middle;\n",
       "    }\n",
       "\n",
       "    .dataframe tbody tr th {\n",
       "        vertical-align: top;\n",
       "    }\n",
       "\n",
       "    .dataframe thead th {\n",
       "        text-align: right;\n",
       "    }\n",
       "</style>\n",
       "<table border=\"1\" class=\"dataframe\">\n",
       "  <thead>\n",
       "    <tr style=\"text-align: right;\">\n",
       "      <th></th>\n",
       "      <th>Date</th>\n",
       "      <th>Open</th>\n",
       "      <th>High</th>\n",
       "      <th>Low</th>\n",
       "      <th>Close</th>\n",
       "      <th>Adj Close</th>\n",
       "      <th>Volume</th>\n",
       "    </tr>\n",
       "  </thead>\n",
       "  <tbody>\n",
       "    <tr>\n",
       "      <th>244</th>\n",
       "      <td>2022-10-31</td>\n",
       "      <td>2541.000000</td>\n",
       "      <td>2560.949951</td>\n",
       "      <td>2532.199951</td>\n",
       "      <td>2549.600098</td>\n",
       "      <td>2549.600098</td>\n",
       "      <td>5731802</td>\n",
       "    </tr>\n",
       "    <tr>\n",
       "      <th>245</th>\n",
       "      <td>2022-11-01</td>\n",
       "      <td>2600.000000</td>\n",
       "      <td>2600.000000</td>\n",
       "      <td>2508.000000</td>\n",
       "      <td>2529.850098</td>\n",
       "      <td>2529.850098</td>\n",
       "      <td>6443999</td>\n",
       "    </tr>\n",
       "    <tr>\n",
       "      <th>246</th>\n",
       "      <td>2022-11-02</td>\n",
       "      <td>2532.300049</td>\n",
       "      <td>2550.199951</td>\n",
       "      <td>2515.000000</td>\n",
       "      <td>2545.649902</td>\n",
       "      <td>2545.649902</td>\n",
       "      <td>4145144</td>\n",
       "    </tr>\n",
       "    <tr>\n",
       "      <th>247</th>\n",
       "      <td>2022-11-03</td>\n",
       "      <td>2529.850098</td>\n",
       "      <td>2559.550049</td>\n",
       "      <td>2525.050049</td>\n",
       "      <td>2555.149902</td>\n",
       "      <td>2555.149902</td>\n",
       "      <td>3089026</td>\n",
       "    </tr>\n",
       "    <tr>\n",
       "      <th>248</th>\n",
       "      <td>2022-11-04</td>\n",
       "      <td>2553.899902</td>\n",
       "      <td>2590.949951</td>\n",
       "      <td>2551.100098</td>\n",
       "      <td>2584.500000</td>\n",
       "      <td>2584.500000</td>\n",
       "      <td>3074007</td>\n",
       "    </tr>\n",
       "  </tbody>\n",
       "</table>\n",
       "</div>"
      ],
      "text/plain": [
       "           Date         Open         High          Low        Close  \\\n",
       "244  2022-10-31  2541.000000  2560.949951  2532.199951  2549.600098   \n",
       "245  2022-11-01  2600.000000  2600.000000  2508.000000  2529.850098   \n",
       "246  2022-11-02  2532.300049  2550.199951  2515.000000  2545.649902   \n",
       "247  2022-11-03  2529.850098  2559.550049  2525.050049  2555.149902   \n",
       "248  2022-11-04  2553.899902  2590.949951  2551.100098  2584.500000   \n",
       "\n",
       "       Adj Close   Volume  \n",
       "244  2549.600098  5731802  \n",
       "245  2529.850098  6443999  \n",
       "246  2545.649902  4145144  \n",
       "247  2555.149902  3089026  \n",
       "248  2584.500000  3074007  "
      ]
     },
     "execution_count": 6,
     "metadata": {},
     "output_type": "execute_result"
    }
   ],
   "source": [
    "data.tail()"
   ]
  },
  {
   "cell_type": "code",
   "execution_count": 7,
   "id": "9d314bc0",
   "metadata": {},
   "outputs": [
    {
     "data": {
      "text/plain": [
       "<bound method NDFrame.describe of            Date         Open         High          Low        Close  \\\n",
       "0    2021-11-04  2492.949951  2504.899902  2490.000000  2498.850098   \n",
       "1    2021-11-08  2519.399902  2520.000000  2456.399902  2501.949951   \n",
       "2    2021-11-09  2505.000000  2528.899902  2487.050049  2521.699951   \n",
       "3    2021-11-10  2516.699951  2558.000000  2503.649902  2549.899902   \n",
       "4    2021-11-11  2540.050049  2570.500000  2535.550049  2554.550049   \n",
       "..          ...          ...          ...          ...          ...   \n",
       "244  2022-10-31  2541.000000  2560.949951  2532.199951  2549.600098   \n",
       "245  2022-11-01  2600.000000  2600.000000  2508.000000  2529.850098   \n",
       "246  2022-11-02  2532.300049  2550.199951  2515.000000  2545.649902   \n",
       "247  2022-11-03  2529.850098  2559.550049  2525.050049  2555.149902   \n",
       "248  2022-11-04  2553.899902  2590.949951  2551.100098  2584.500000   \n",
       "\n",
       "       Adj Close   Volume  \n",
       "0    2491.349365   787160  \n",
       "1    2494.439941  9385607  \n",
       "2    2514.130615  7237470  \n",
       "3    2542.245850  4731975  \n",
       "4    2546.882080  4948422  \n",
       "..           ...      ...  \n",
       "244  2549.600098  5731802  \n",
       "245  2529.850098  6443999  \n",
       "246  2545.649902  4145144  \n",
       "247  2555.149902  3089026  \n",
       "248  2584.500000  3074007  \n",
       "\n",
       "[249 rows x 7 columns]>"
      ]
     },
     "execution_count": 7,
     "metadata": {},
     "output_type": "execute_result"
    }
   ],
   "source": [
    "data.describe"
   ]
  },
  {
   "cell_type": "code",
   "execution_count": 8,
   "id": "ada12561",
   "metadata": {},
   "outputs": [
    {
     "name": "stdout",
     "output_type": "stream",
     "text": [
      "<class 'pandas.core.frame.DataFrame'>\n",
      "RangeIndex: 249 entries, 0 to 248\n",
      "Data columns (total 7 columns):\n",
      " #   Column     Non-Null Count  Dtype  \n",
      "---  ------     --------------  -----  \n",
      " 0   Date       249 non-null    object \n",
      " 1   Open       249 non-null    float64\n",
      " 2   High       249 non-null    float64\n",
      " 3   Low        249 non-null    float64\n",
      " 4   Close      249 non-null    float64\n",
      " 5   Adj Close  249 non-null    float64\n",
      " 6   Volume     249 non-null    int64  \n",
      "dtypes: float64(5), int64(1), object(1)\n",
      "memory usage: 13.7+ KB\n"
     ]
    }
   ],
   "source": [
    "data.info()"
   ]
  },
  {
   "cell_type": "code",
   "execution_count": 15,
   "id": "ef09496c",
   "metadata": {},
   "outputs": [],
   "source": [
    "data.drop('Date',axis=1,inplace=True)"
   ]
  },
  {
   "cell_type": "code",
   "execution_count": 13,
   "id": "bae714be",
   "metadata": {},
   "outputs": [],
   "source": [
    "data.drop('Adj Close',axis=1,inplace=True)"
   ]
  },
  {
   "cell_type": "code",
   "execution_count": 16,
   "id": "93824a23",
   "metadata": {},
   "outputs": [
    {
     "data": {
      "text/html": [
       "<div>\n",
       "<style scoped>\n",
       "    .dataframe tbody tr th:only-of-type {\n",
       "        vertical-align: middle;\n",
       "    }\n",
       "\n",
       "    .dataframe tbody tr th {\n",
       "        vertical-align: top;\n",
       "    }\n",
       "\n",
       "    .dataframe thead th {\n",
       "        text-align: right;\n",
       "    }\n",
       "</style>\n",
       "<table border=\"1\" class=\"dataframe\">\n",
       "  <thead>\n",
       "    <tr style=\"text-align: right;\">\n",
       "      <th></th>\n",
       "      <th>Open</th>\n",
       "      <th>High</th>\n",
       "      <th>Low</th>\n",
       "      <th>Close</th>\n",
       "      <th>Volume</th>\n",
       "    </tr>\n",
       "  </thead>\n",
       "  <tbody>\n",
       "    <tr>\n",
       "      <th>0</th>\n",
       "      <td>2492.949951</td>\n",
       "      <td>2504.899902</td>\n",
       "      <td>2490.000000</td>\n",
       "      <td>2498.850098</td>\n",
       "      <td>787160</td>\n",
       "    </tr>\n",
       "    <tr>\n",
       "      <th>1</th>\n",
       "      <td>2519.399902</td>\n",
       "      <td>2520.000000</td>\n",
       "      <td>2456.399902</td>\n",
       "      <td>2501.949951</td>\n",
       "      <td>9385607</td>\n",
       "    </tr>\n",
       "    <tr>\n",
       "      <th>2</th>\n",
       "      <td>2505.000000</td>\n",
       "      <td>2528.899902</td>\n",
       "      <td>2487.050049</td>\n",
       "      <td>2521.699951</td>\n",
       "      <td>7237470</td>\n",
       "    </tr>\n",
       "    <tr>\n",
       "      <th>3</th>\n",
       "      <td>2516.699951</td>\n",
       "      <td>2558.000000</td>\n",
       "      <td>2503.649902</td>\n",
       "      <td>2549.899902</td>\n",
       "      <td>4731975</td>\n",
       "    </tr>\n",
       "    <tr>\n",
       "      <th>4</th>\n",
       "      <td>2540.050049</td>\n",
       "      <td>2570.500000</td>\n",
       "      <td>2535.550049</td>\n",
       "      <td>2554.550049</td>\n",
       "      <td>4948422</td>\n",
       "    </tr>\n",
       "  </tbody>\n",
       "</table>\n",
       "</div>"
      ],
      "text/plain": [
       "          Open         High          Low        Close   Volume\n",
       "0  2492.949951  2504.899902  2490.000000  2498.850098   787160\n",
       "1  2519.399902  2520.000000  2456.399902  2501.949951  9385607\n",
       "2  2505.000000  2528.899902  2487.050049  2521.699951  7237470\n",
       "3  2516.699951  2558.000000  2503.649902  2549.899902  4731975\n",
       "4  2540.050049  2570.500000  2535.550049  2554.550049  4948422"
      ]
     },
     "execution_count": 16,
     "metadata": {},
     "output_type": "execute_result"
    }
   ],
   "source": [
    "data.head()"
   ]
  },
  {
   "cell_type": "code",
   "execution_count": 20,
   "id": "960a49f8",
   "metadata": {},
   "outputs": [],
   "source": [
    "data_X = data.loc[:,data.columns !=  'Close' ]\n",
    "data_Y = data['Close']"
   ]
  },
  {
   "cell_type": "code",
   "execution_count": 22,
   "id": "b654e2b0",
   "metadata": {},
   "outputs": [
    {
     "name": "stdout",
     "output_type": "stream",
     "text": [
      "            Open         High          Low   Volume\n",
      "0    2492.949951  2504.899902  2490.000000   787160\n",
      "1    2519.399902  2520.000000  2456.399902  9385607\n",
      "2    2505.000000  2528.899902  2487.050049  7237470\n",
      "3    2516.699951  2558.000000  2503.649902  4731975\n",
      "4    2540.050049  2570.500000  2535.550049  4948422\n",
      "..           ...          ...          ...      ...\n",
      "244  2541.000000  2560.949951  2532.199951  5731802\n",
      "245  2600.000000  2600.000000  2508.000000  6443999\n",
      "246  2532.300049  2550.199951  2515.000000  4145144\n",
      "247  2529.850098  2559.550049  2525.050049  3089026\n",
      "248  2553.899902  2590.949951  2551.100098  3074007\n",
      "\n",
      "[249 rows x 4 columns]\n",
      "0      2498.850098\n",
      "1      2501.949951\n",
      "2      2521.699951\n",
      "3      2549.899902\n",
      "4      2554.550049\n",
      "          ...     \n",
      "244    2549.600098\n",
      "245    2529.850098\n",
      "246    2545.649902\n",
      "247    2555.149902\n",
      "248    2584.500000\n",
      "Name: Close, Length: 249, dtype: float64\n"
     ]
    }
   ],
   "source": [
    "print(data_X)\n",
    "print(data_Y)"
   ]
  },
  {
   "cell_type": "code",
   "execution_count": 25,
   "id": "ceeb0e78",
   "metadata": {},
   "outputs": [],
   "source": [
    "train_X, test_X, train_y,test_y = train_test_split(data_X,data_Y,test_size=0.25)"
   ]
  },
  {
   "cell_type": "code",
   "execution_count": 31,
   "id": "34a589d4",
   "metadata": {},
   "outputs": [
    {
     "data": {
      "text/plain": [
       "LinearRegression()"
      ]
     },
     "execution_count": 31,
     "metadata": {},
     "output_type": "execute_result"
    }
   ],
   "source": [
    "regressor = LinearRegression()\n",
    "regressor.fit(train_X,train_y)"
   ]
  },
  {
   "cell_type": "code",
   "execution_count": 32,
   "id": "4eec3418",
   "metadata": {},
   "outputs": [
    {
     "name": "stdout",
     "output_type": "stream",
     "text": [
      "Prediction Score :  0.98809424155442\n",
      "Mean Squared Error :  142.19536445030266\n"
     ]
    }
   ],
   "source": [
    "predict_y = regressor.predict(test_X)\n",
    "print('Prediction Score : ' , regressor.score(test_X,test_y))\n",
    "error = mean_squared_error(test_y,predict_y)\n",
    "print('Mean Squared Error : ',error)"
   ]
  },
  {
   "cell_type": "code",
   "execution_count": 35,
   "id": "45d26cba",
   "metadata": {},
   "outputs": [
    {
     "data": {
      "image/png": "[encoded data removed]",
      "text/plain": [
       "<Figure size 432x288 with 1 Axes>"
      ]
     },
     "metadata": {
      "needs_background": "light"
     },
     "output_type": "display_data"
    }
   ],
   "source": [
    "fig = plt.figure()\n",
    "ax = plt.axes()\n",
    "ax.grid()\n",
    "ax.set(xlabel='Close ($)',ylabel='Open ($)', title='Reliance Stock Prediction using Linear Regression')\n",
    "ax.plot(test_X['Open'],test_y)\n",
    "ax.plot(test_X['Open'],predict_y)\n",
    "fig.savefig('LRPlot.png')\n",
    "plt.show()"
   ]
  },
  {
   "cell_type": "code",
   "execution_count": null,
   "id": "6bda6d9e",
   "metadata": {},
   "outputs": [],
   "source": []
  }
 ],
 "metadata": {
  "kernelspec": {
   "display_name": "Python 3",
   "language": "python",
   "name": "python3"
  },
  "language_info": {
   "codemirror_mode": {
    "name": "ipython",
    "version": 3
   },
   "file_extension": ".py",
   "mimetype": "text/x-python",
   "name": "python",
   "nbconvert_exporter": "python",
   "pygments_lexer": "ipython3",
   "version": "3.8.8"
  }
 },
 "nbformat": 4,
 "nbformat_minor": 5
}
